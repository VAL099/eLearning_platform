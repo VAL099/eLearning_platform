{
 "cells": [
  {
   "cell_type": "code",
   "execution_count": 1,
   "metadata": {},
   "outputs": [
    {
     "name": "stdout",
     "output_type": "stream",
     "text": [
      "isEmpty\n"
     ]
    }
   ],
   "source": [
    "import mysql.connector as mysql\n",
    "\n",
    "db = mysql.connect(host='localhost', port=7700, user='root', password='very_str0ng_pa55w0rd', database='eLearning')\n",
    "cursor = db.cursor()\n",
    "\n",
    "query = \"SELECT * FROM users\"\n",
    "cursor.execute(query)\n",
    "course_list = cursor.fetchall()\n",
    "if course_list:\n",
    "    print(course_list)\n",
    "else: \n",
    "    print('isEmpty')"
   ]
  }
 ],
 "metadata": {
  "kernelspec": {
   "display_name": "venv",
   "language": "python",
   "name": "python3"
  },
  "language_info": {
   "codemirror_mode": {
    "name": "ipython",
    "version": 3
   },
   "file_extension": ".py",
   "mimetype": "text/x-python",
   "name": "python",
   "nbconvert_exporter": "python",
   "pygments_lexer": "ipython3",
   "version": "3.11.1"
  },
  "orig_nbformat": 4
 },
 "nbformat": 4,
 "nbformat_minor": 2
}
